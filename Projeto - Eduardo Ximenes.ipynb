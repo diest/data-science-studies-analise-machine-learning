{
 "cells": [
  {
   "cell_type": "markdown",
   "id": "79edc8b0-ac56-4652-b717-c1aa87ed877b",
   "metadata": {},
   "source": [
    "**Universidade Federal de Pernambuco - Centro de Informática**  \n",
    "**Especialização em Ciência de Dados**  \n",
    "**Disciplina:** Aprendizagem de Máquina  \n",
    "**Discente:** Eduardo Henrique Ximenes de Melo e Menezes"
   ]
  },
  {
   "cell_type": "markdown",
   "id": "316dbcdd-8fa3-4051-a9c9-6290efad1929",
   "metadata": {
    "jp-MarkdownHeadingCollapsed": true,
    "tags": []
   },
   "source": [
    "# Bibliotecas necessárias"
   ]
  },
  {
   "cell_type": "code",
   "execution_count": 1,
   "id": "2b1b04ed-cb65-45f3-be47-6d73e316bc49",
   "metadata": {},
   "outputs": [],
   "source": [
    "import pandas as pd\n",
    "import numpy as np\n",
    "import sklearn.metrics as metrics\n",
    "import sklearn.model_selection as model_selection\n",
    "import sklearn.preprocessing as preprocessing\n",
    "\n",
    "import sklearn.neighbors as neighbors\n",
    "import sklearn.ensemble as ensemble\n",
    "import sklearn.svm as svm"
   ]
  },
  {
   "cell_type": "markdown",
   "id": "731ddb19-4374-48f1-a8bf-9876964111a0",
   "metadata": {},
   "source": [
    "# (a) Base escolhida"
   ]
  },
  {
   "attachments": {
    "Brushtail%20Possum.jpg": {
     "image/jpeg": "[encoded data removed]"
    }
   },
   "cell_type": "markdown",
   "id": "40e82044",
   "metadata": {},
   "source": [
    "![Foto do gambá cusu](attachment:Brushtail%20Possum.jpg \"Foto do gambá cusu\")"
   ]
  },
  {
   "cell_type": "markdown",
   "id": "63a455ea-d171-4bcf-b9ad-50ea784c162f",
   "metadata": {},
   "source": [
    "A base escolhida foi a Possum Regression, que apesar do nome, é uma base adequada tanto para regressões quanto para classificação. Ela está disponível no [Kaggle](https://www.kaggle.com/datasets/abrambeyer/openintro-possum), foi extraída de um artigo do periódico Australian Journal of Zoology, e possui informações referentes a uma espécie australiana de gambá cujos exemplares foram capturados em diferentes sítios de pesquisa em biologia para estudos. As colunas são as seguintes:  \n",
    "1. case: Índice do indivíduo estudado.  \n",
    "2. site: Sítio onde o indivíduo foi capturado.  \n",
    "3. Pop: População à qual o indivíduo pertence, podendo ser Vic (estado Victoria) ou other (referente aos estados Queensland e New South Wales).  \n",
    "4. sex: Sexo do indivíduo.  \n",
    "5. age: Idade do indivíduo.  \n",
    "6. hdlngth: Comprimento da cabeça em milímetros.  \n",
    "7. skullw: Largura do crânio em milímetros.  \n",
    "8. totlngth: Comprimento total em centímetros.  \n",
    "9. taill: Comprimento da cauda em centímetros.  \n",
    "10. footlgth: Comprimento do pé em milímetros.  \n",
    "11. earconch: Curvatura da orelha em milímetros.  \n",
    "12. eye: Distância entre o canto medial e o canto lateral do olho direito em milímetros.  \n",
    "13. chest: Circunferência do tórax em centímetros.\n",
    "14. belly: Circunferência da barriga em centímetros. \n",
    "\n",
    "Para utilizar a base ao máximo possível, criarei dois modelos de classificação para descobrir o sítio de captura, e dois modelos de regressão para descobrir o tamanho do crânio."
   ]
  },
  {
   "cell_type": "code",
   "execution_count": 2,
   "id": "e4b17975-6e68-4ef4-97a6-049531d4c0bd",
   "metadata": {},
   "outputs": [
    {
     "data": {
      "text/html": [
       "<div>\n",
       "<style scoped>\n",
       "    .dataframe tbody tr th:only-of-type {\n",
       "        vertical-align: middle;\n",
       "    }\n",
       "\n",
       "    .dataframe tbody tr th {\n",
       "        vertical-align: top;\n",
       "    }\n",
       "\n",
       "    .dataframe thead th {\n",
       "        text-align: right;\n",
       "    }\n",
       "</style>\n",
       "<table border=\"1\" class=\"dataframe\">\n",
       "  <thead>\n",
       "    <tr style=\"text-align: right;\">\n",
       "      <th></th>\n",
       "      <th>case</th>\n",
       "      <th>site</th>\n",
       "      <th>Pop</th>\n",
       "      <th>sex</th>\n",
       "      <th>age</th>\n",
       "      <th>hdlngth</th>\n",
       "      <th>skullw</th>\n",
       "      <th>totlngth</th>\n",
       "      <th>taill</th>\n",
       "      <th>footlgth</th>\n",
       "      <th>earconch</th>\n",
       "      <th>eye</th>\n",
       "      <th>chest</th>\n",
       "      <th>belly</th>\n",
       "    </tr>\n",
       "  </thead>\n",
       "  <tbody>\n",
       "    <tr>\n",
       "      <th>0</th>\n",
       "      <td>1</td>\n",
       "      <td>1</td>\n",
       "      <td>Vic</td>\n",
       "      <td>m</td>\n",
       "      <td>8.0</td>\n",
       "      <td>94.1</td>\n",
       "      <td>60.4</td>\n",
       "      <td>89.0</td>\n",
       "      <td>36.0</td>\n",
       "      <td>74.5</td>\n",
       "      <td>54.5</td>\n",
       "      <td>15.2</td>\n",
       "      <td>28.0</td>\n",
       "      <td>36.0</td>\n",
       "    </tr>\n",
       "    <tr>\n",
       "      <th>1</th>\n",
       "      <td>2</td>\n",
       "      <td>1</td>\n",
       "      <td>Vic</td>\n",
       "      <td>f</td>\n",
       "      <td>6.0</td>\n",
       "      <td>92.5</td>\n",
       "      <td>57.6</td>\n",
       "      <td>91.5</td>\n",
       "      <td>36.5</td>\n",
       "      <td>72.5</td>\n",
       "      <td>51.2</td>\n",
       "      <td>16.0</td>\n",
       "      <td>28.5</td>\n",
       "      <td>33.0</td>\n",
       "    </tr>\n",
       "    <tr>\n",
       "      <th>2</th>\n",
       "      <td>3</td>\n",
       "      <td>1</td>\n",
       "      <td>Vic</td>\n",
       "      <td>f</td>\n",
       "      <td>6.0</td>\n",
       "      <td>94.0</td>\n",
       "      <td>60.0</td>\n",
       "      <td>95.5</td>\n",
       "      <td>39.0</td>\n",
       "      <td>75.4</td>\n",
       "      <td>51.9</td>\n",
       "      <td>15.5</td>\n",
       "      <td>30.0</td>\n",
       "      <td>34.0</td>\n",
       "    </tr>\n",
       "    <tr>\n",
       "      <th>3</th>\n",
       "      <td>4</td>\n",
       "      <td>1</td>\n",
       "      <td>Vic</td>\n",
       "      <td>f</td>\n",
       "      <td>6.0</td>\n",
       "      <td>93.2</td>\n",
       "      <td>57.1</td>\n",
       "      <td>92.0</td>\n",
       "      <td>38.0</td>\n",
       "      <td>76.1</td>\n",
       "      <td>52.2</td>\n",
       "      <td>15.2</td>\n",
       "      <td>28.0</td>\n",
       "      <td>34.0</td>\n",
       "    </tr>\n",
       "    <tr>\n",
       "      <th>4</th>\n",
       "      <td>5</td>\n",
       "      <td>1</td>\n",
       "      <td>Vic</td>\n",
       "      <td>f</td>\n",
       "      <td>2.0</td>\n",
       "      <td>91.5</td>\n",
       "      <td>56.3</td>\n",
       "      <td>85.5</td>\n",
       "      <td>36.0</td>\n",
       "      <td>71.0</td>\n",
       "      <td>53.2</td>\n",
       "      <td>15.1</td>\n",
       "      <td>28.5</td>\n",
       "      <td>33.0</td>\n",
       "    </tr>\n",
       "  </tbody>\n",
       "</table>\n",
       "</div>"
      ],
      "text/plain": [
       "   case  site  Pop sex  age  hdlngth  skullw  totlngth  taill  footlgth  \\\n",
       "0     1     1  Vic   m  8.0     94.1    60.4      89.0   36.0      74.5   \n",
       "1     2     1  Vic   f  6.0     92.5    57.6      91.5   36.5      72.5   \n",
       "2     3     1  Vic   f  6.0     94.0    60.0      95.5   39.0      75.4   \n",
       "3     4     1  Vic   f  6.0     93.2    57.1      92.0   38.0      76.1   \n",
       "4     5     1  Vic   f  2.0     91.5    56.3      85.5   36.0      71.0   \n",
       "\n",
       "   earconch   eye  chest  belly  \n",
       "0      54.5  15.2   28.0   36.0  \n",
       "1      51.2  16.0   28.5   33.0  \n",
       "2      51.9  15.5   30.0   34.0  \n",
       "3      52.2  15.2   28.0   34.0  \n",
       "4      53.2  15.1   28.5   33.0  "
      ]
     },
     "execution_count": 2,
     "metadata": {},
     "output_type": "execute_result"
    }
   ],
   "source": [
    "possum = pd.read_csv('possum.csv')\n",
    "possum.head()"
   ]
  },
  {
   "cell_type": "markdown",
   "id": "7047efef-39d5-4727-bdc8-c8f870558dd8",
   "metadata": {},
   "source": [
    "# (b) Pré-processamento"
   ]
  },
  {
   "cell_type": "markdown",
   "id": "0168d393-8a31-447b-9973-5b5dbc398fbb",
   "metadata": {},
   "source": [
    "Antes de tudo, vou observar a natureza dos dados."
   ]
  },
  {
   "cell_type": "code",
   "execution_count": 3,
   "id": "0c1a99ae-a04c-4403-b4bd-5bf1b7122f28",
   "metadata": {},
   "outputs": [
    {
     "name": "stdout",
     "output_type": "stream",
     "text": [
      "<class 'pandas.core.frame.DataFrame'>\n",
      "RangeIndex: 104 entries, 0 to 103\n",
      "Data columns (total 14 columns):\n",
      " #   Column    Non-Null Count  Dtype  \n",
      "---  ------    --------------  -----  \n",
      " 0   case      104 non-null    int64  \n",
      " 1   site      104 non-null    int64  \n",
      " 2   Pop       104 non-null    object \n",
      " 3   sex       104 non-null    object \n",
      " 4   age       102 non-null    float64\n",
      " 5   hdlngth   104 non-null    float64\n",
      " 6   skullw    104 non-null    float64\n",
      " 7   totlngth  104 non-null    float64\n",
      " 8   taill     104 non-null    float64\n",
      " 9   footlgth  103 non-null    float64\n",
      " 10  earconch  104 non-null    float64\n",
      " 11  eye       104 non-null    float64\n",
      " 12  chest     104 non-null    float64\n",
      " 13  belly     104 non-null    float64\n",
      "dtypes: float64(10), int64(2), object(2)\n",
      "memory usage: 11.5+ KB\n"
     ]
    }
   ],
   "source": [
    "possum.info()"
   ]
  },
  {
   "cell_type": "markdown",
   "id": "1065d6c3-f54b-4b62-a474-820f1b0faed2",
   "metadata": {},
   "source": [
    "## Descarte de case"
   ]
  },
  {
   "cell_type": "markdown",
   "id": "c5d272c0-f83b-419d-9b74-e96f3c9db86a",
   "metadata": {},
   "source": [
    "A coluna case é apenas um identificador, que é desnecessário visto que o DataFrame já possui um índice."
   ]
  },
  {
   "cell_type": "code",
   "execution_count": 4,
   "id": "e957e518-c0e3-45e5-80d8-76d0a87d9e03",
   "metadata": {},
   "outputs": [
    {
     "data": {
      "text/html": [
       "<div>\n",
       "<style scoped>\n",
       "    .dataframe tbody tr th:only-of-type {\n",
       "        vertical-align: middle;\n",
       "    }\n",
       "\n",
       "    .dataframe tbody tr th {\n",
       "        vertical-align: top;\n",
       "    }\n",
       "\n",
       "    .dataframe thead th {\n",
       "        text-align: right;\n",
       "    }\n",
       "</style>\n",
       "<table border=\"1\" class=\"dataframe\">\n",
       "  <thead>\n",
       "    <tr style=\"text-align: right;\">\n",
       "      <th></th>\n",
       "      <th>site</th>\n",
       "      <th>Pop</th>\n",
       "      <th>sex</th>\n",
       "      <th>age</th>\n",
       "      <th>hdlngth</th>\n",
       "      <th>skullw</th>\n",
       "      <th>totlngth</th>\n",
       "      <th>taill</th>\n",
       "      <th>footlgth</th>\n",
       "      <th>earconch</th>\n",
       "      <th>eye</th>\n",
       "      <th>chest</th>\n",
       "      <th>belly</th>\n",
       "    </tr>\n",
       "  </thead>\n",
       "  <tbody>\n",
       "    <tr>\n",
       "      <th>0</th>\n",
       "      <td>1</td>\n",
       "      <td>Vic</td>\n",
       "      <td>m</td>\n",
       "      <td>8.0</td>\n",
       "      <td>94.1</td>\n",
       "      <td>60.4</td>\n",
       "      <td>89.0</td>\n",
       "      <td>36.0</td>\n",
       "      <td>74.5</td>\n",
       "      <td>54.5</td>\n",
       "      <td>15.2</td>\n",
       "      <td>28.0</td>\n",
       "      <td>36.0</td>\n",
       "    </tr>\n",
       "    <tr>\n",
       "      <th>1</th>\n",
       "      <td>1</td>\n",
       "      <td>Vic</td>\n",
       "      <td>f</td>\n",
       "      <td>6.0</td>\n",
       "      <td>92.5</td>\n",
       "      <td>57.6</td>\n",
       "      <td>91.5</td>\n",
       "      <td>36.5</td>\n",
       "      <td>72.5</td>\n",
       "      <td>51.2</td>\n",
       "      <td>16.0</td>\n",
       "      <td>28.5</td>\n",
       "      <td>33.0</td>\n",
       "    </tr>\n",
       "    <tr>\n",
       "      <th>2</th>\n",
       "      <td>1</td>\n",
       "      <td>Vic</td>\n",
       "      <td>f</td>\n",
       "      <td>6.0</td>\n",
       "      <td>94.0</td>\n",
       "      <td>60.0</td>\n",
       "      <td>95.5</td>\n",
       "      <td>39.0</td>\n",
       "      <td>75.4</td>\n",
       "      <td>51.9</td>\n",
       "      <td>15.5</td>\n",
       "      <td>30.0</td>\n",
       "      <td>34.0</td>\n",
       "    </tr>\n",
       "    <tr>\n",
       "      <th>3</th>\n",
       "      <td>1</td>\n",
       "      <td>Vic</td>\n",
       "      <td>f</td>\n",
       "      <td>6.0</td>\n",
       "      <td>93.2</td>\n",
       "      <td>57.1</td>\n",
       "      <td>92.0</td>\n",
       "      <td>38.0</td>\n",
       "      <td>76.1</td>\n",
       "      <td>52.2</td>\n",
       "      <td>15.2</td>\n",
       "      <td>28.0</td>\n",
       "      <td>34.0</td>\n",
       "    </tr>\n",
       "    <tr>\n",
       "      <th>4</th>\n",
       "      <td>1</td>\n",
       "      <td>Vic</td>\n",
       "      <td>f</td>\n",
       "      <td>2.0</td>\n",
       "      <td>91.5</td>\n",
       "      <td>56.3</td>\n",
       "      <td>85.5</td>\n",
       "      <td>36.0</td>\n",
       "      <td>71.0</td>\n",
       "      <td>53.2</td>\n",
       "      <td>15.1</td>\n",
       "      <td>28.5</td>\n",
       "      <td>33.0</td>\n",
       "    </tr>\n",
       "  </tbody>\n",
       "</table>\n",
       "</div>"
      ],
      "text/plain": [
       "   site  Pop sex  age  hdlngth  skullw  totlngth  taill  footlgth  earconch  \\\n",
       "0     1  Vic   m  8.0     94.1    60.4      89.0   36.0      74.5      54.5   \n",
       "1     1  Vic   f  6.0     92.5    57.6      91.5   36.5      72.5      51.2   \n",
       "2     1  Vic   f  6.0     94.0    60.0      95.5   39.0      75.4      51.9   \n",
       "3     1  Vic   f  6.0     93.2    57.1      92.0   38.0      76.1      52.2   \n",
       "4     1  Vic   f  2.0     91.5    56.3      85.5   36.0      71.0      53.2   \n",
       "\n",
       "    eye  chest  belly  \n",
       "0  15.2   28.0   36.0  \n",
       "1  16.0   28.5   33.0  \n",
       "2  15.5   30.0   34.0  \n",
       "3  15.2   28.0   34.0  \n",
       "4  15.1   28.5   33.0  "
      ]
     },
     "execution_count": 4,
     "metadata": {},
     "output_type": "execute_result"
    }
   ],
   "source": [
    "possumMonoIndex = possum.copy()\n",
    "possumMonoIndex = possumMonoIndex.drop('case', axis=1)\n",
    "possumMonoIndex.head()"
   ]
  },
  {
   "cell_type": "markdown",
   "id": "67440ded-ae68-4169-9cd9-90c2a3e81d94",
   "metadata": {},
   "source": [
    "## Valores nulos"
   ]
  },
  {
   "cell_type": "markdown",
   "id": "a0b00ea0-7d9b-4764-8c99-2ca03debc54d",
   "metadata": {},
   "source": [
    "Há dois valores nulos a tratar em age e um em footlgth. Se um mesmo indivíduo estiver com essas duas informações faltando, pretendo descartá-lo visto que dificilmente fará falta para o resto da base. Do contrário, vou apenas aplicar a média da coluna aos dados faltantes."
   ]
  },
  {
   "cell_type": "code",
   "execution_count": 5,
   "id": "8955d871-8d56-43e1-bc47-9bdc455fc8fd",
   "metadata": {},
   "outputs": [
    {
     "data": {
      "text/html": [
       "<div>\n",
       "<style scoped>\n",
       "    .dataframe tbody tr th:only-of-type {\n",
       "        vertical-align: middle;\n",
       "    }\n",
       "\n",
       "    .dataframe tbody tr th {\n",
       "        vertical-align: top;\n",
       "    }\n",
       "\n",
       "    .dataframe thead th {\n",
       "        text-align: right;\n",
       "    }\n",
       "</style>\n",
       "<table border=\"1\" class=\"dataframe\">\n",
       "  <thead>\n",
       "    <tr style=\"text-align: right;\">\n",
       "      <th></th>\n",
       "      <th>site</th>\n",
       "      <th>Pop</th>\n",
       "      <th>sex</th>\n",
       "      <th>age</th>\n",
       "      <th>hdlngth</th>\n",
       "      <th>skullw</th>\n",
       "      <th>totlngth</th>\n",
       "      <th>taill</th>\n",
       "      <th>footlgth</th>\n",
       "      <th>earconch</th>\n",
       "      <th>eye</th>\n",
       "      <th>chest</th>\n",
       "      <th>belly</th>\n",
       "    </tr>\n",
       "  </thead>\n",
       "  <tbody>\n",
       "    <tr>\n",
       "      <th>43</th>\n",
       "      <td>2</td>\n",
       "      <td>Vic</td>\n",
       "      <td>m</td>\n",
       "      <td>NaN</td>\n",
       "      <td>85.1</td>\n",
       "      <td>51.5</td>\n",
       "      <td>76.0</td>\n",
       "      <td>35.5</td>\n",
       "      <td>70.3</td>\n",
       "      <td>52.6</td>\n",
       "      <td>14.4</td>\n",
       "      <td>23.0</td>\n",
       "      <td>27.0</td>\n",
       "    </tr>\n",
       "    <tr>\n",
       "      <th>45</th>\n",
       "      <td>2</td>\n",
       "      <td>Vic</td>\n",
       "      <td>m</td>\n",
       "      <td>NaN</td>\n",
       "      <td>91.4</td>\n",
       "      <td>54.4</td>\n",
       "      <td>84.0</td>\n",
       "      <td>35.0</td>\n",
       "      <td>72.8</td>\n",
       "      <td>51.2</td>\n",
       "      <td>14.4</td>\n",
       "      <td>24.5</td>\n",
       "      <td>35.0</td>\n",
       "    </tr>\n",
       "  </tbody>\n",
       "</table>\n",
       "</div>"
      ],
      "text/plain": [
       "    site  Pop sex  age  hdlngth  skullw  totlngth  taill  footlgth  earconch  \\\n",
       "43     2  Vic   m  NaN     85.1    51.5      76.0   35.5      70.3      52.6   \n",
       "45     2  Vic   m  NaN     91.4    54.4      84.0   35.0      72.8      51.2   \n",
       "\n",
       "     eye  chest  belly  \n",
       "43  14.4   23.0   27.0  \n",
       "45  14.4   24.5   35.0  "
      ]
     },
     "execution_count": 5,
     "metadata": {},
     "output_type": "execute_result"
    }
   ],
   "source": [
    "possumMonoIndex[possumMonoIndex.age.isnull()]"
   ]
  },
  {
   "cell_type": "markdown",
   "id": "acef9cc4-9791-4dd1-b15d-3027becb4bce",
   "metadata": {},
   "source": [
    "Um mesmo indivíduo não possui informações faltantes, então vou aplicar a média da coluna a todas as informações faltantes."
   ]
  },
  {
   "cell_type": "code",
   "execution_count": 6,
   "id": "1cfb77af-0516-4d32-b697-8da4f27a37be",
   "metadata": {},
   "outputs": [
    {
     "name": "stdout",
     "output_type": "stream",
     "text": [
      "<class 'pandas.core.frame.DataFrame'>\n",
      "RangeIndex: 104 entries, 0 to 103\n",
      "Data columns (total 13 columns):\n",
      " #   Column    Non-Null Count  Dtype  \n",
      "---  ------    --------------  -----  \n",
      " 0   site      104 non-null    int64  \n",
      " 1   Pop       104 non-null    object \n",
      " 2   sex       104 non-null    object \n",
      " 3   age       104 non-null    float64\n",
      " 4   hdlngth   104 non-null    float64\n",
      " 5   skullw    104 non-null    float64\n",
      " 6   totlngth  104 non-null    float64\n",
      " 7   taill     104 non-null    float64\n",
      " 8   footlgth  104 non-null    float64\n",
      " 9   earconch  104 non-null    float64\n",
      " 10  eye       104 non-null    float64\n",
      " 11  chest     104 non-null    float64\n",
      " 12  belly     104 non-null    float64\n",
      "dtypes: float64(10), int64(1), object(2)\n",
      "memory usage: 10.7+ KB\n"
     ]
    }
   ],
   "source": [
    "possumNullTreat = possumMonoIndex.copy()\n",
    "\n",
    "possumNullTreat.age = possumNullTreat.age.fillna(possum.age.mean())\n",
    "possumNullTreat.footlgth = possumNullTreat.footlgth.fillna(possum.footlgth.mean())\n",
    "\n",
    "possumNullTreat.info()"
   ]
  },
  {
   "cell_type": "markdown",
   "id": "69a2cd24-dd05-44eb-8542-9aa036d260ef",
   "metadata": {},
   "source": [
    "## Tratamento de variáveis categóricas"
   ]
  },
  {
   "cell_type": "markdown",
   "id": "26bd59f8-85bf-42da-b7e2-80a896f054b0",
   "metadata": {},
   "source": [
    "Como estamos lidando com diversas medidas diferentes, é possível que o escalador mais adequado seja o StandardScaler, e por isso seria interessante deixar os valores binários de -1 a 1. Assim, no caso de sex, vou atribuir -1 a f e 1 a m, visto que animais machos possuem uma média de tamanho geralmente maior, então valores maiores para m podem auxiliar na regressão.  \n",
    "No caso de estado onde o indivíduo foi capturado, vou considerar 0 para other e 1 para Vic, visto que é o único estado com uma identificação própria e que poderia fazer diferença no modelo."
   ]
  },
  {
   "cell_type": "code",
   "execution_count": 7,
   "id": "dbb3a646-a693-4da9-9f63-1344f47dbac8",
   "metadata": {},
   "outputs": [
    {
     "data": {
      "text/html": [
       "<div>\n",
       "<style scoped>\n",
       "    .dataframe tbody tr th:only-of-type {\n",
       "        vertical-align: middle;\n",
       "    }\n",
       "\n",
       "    .dataframe tbody tr th {\n",
       "        vertical-align: top;\n",
       "    }\n",
       "\n",
       "    .dataframe thead th {\n",
       "        text-align: right;\n",
       "    }\n",
       "</style>\n",
       "<table border=\"1\" class=\"dataframe\">\n",
       "  <thead>\n",
       "    <tr style=\"text-align: right;\">\n",
       "      <th></th>\n",
       "      <th>site</th>\n",
       "      <th>Pop</th>\n",
       "      <th>sex</th>\n",
       "      <th>age</th>\n",
       "      <th>hdlngth</th>\n",
       "      <th>skullw</th>\n",
       "      <th>totlngth</th>\n",
       "      <th>taill</th>\n",
       "      <th>footlgth</th>\n",
       "      <th>earconch</th>\n",
       "      <th>eye</th>\n",
       "      <th>chest</th>\n",
       "      <th>belly</th>\n",
       "    </tr>\n",
       "  </thead>\n",
       "  <tbody>\n",
       "    <tr>\n",
       "      <th>0</th>\n",
       "      <td>1</td>\n",
       "      <td>1</td>\n",
       "      <td>1</td>\n",
       "      <td>8.0</td>\n",
       "      <td>94.1</td>\n",
       "      <td>60.4</td>\n",
       "      <td>89.0</td>\n",
       "      <td>36.0</td>\n",
       "      <td>74.5</td>\n",
       "      <td>54.5</td>\n",
       "      <td>15.2</td>\n",
       "      <td>28.0</td>\n",
       "      <td>36.0</td>\n",
       "    </tr>\n",
       "    <tr>\n",
       "      <th>1</th>\n",
       "      <td>1</td>\n",
       "      <td>1</td>\n",
       "      <td>-1</td>\n",
       "      <td>6.0</td>\n",
       "      <td>92.5</td>\n",
       "      <td>57.6</td>\n",
       "      <td>91.5</td>\n",
       "      <td>36.5</td>\n",
       "      <td>72.5</td>\n",
       "      <td>51.2</td>\n",
       "      <td>16.0</td>\n",
       "      <td>28.5</td>\n",
       "      <td>33.0</td>\n",
       "    </tr>\n",
       "    <tr>\n",
       "      <th>2</th>\n",
       "      <td>1</td>\n",
       "      <td>1</td>\n",
       "      <td>-1</td>\n",
       "      <td>6.0</td>\n",
       "      <td>94.0</td>\n",
       "      <td>60.0</td>\n",
       "      <td>95.5</td>\n",
       "      <td>39.0</td>\n",
       "      <td>75.4</td>\n",
       "      <td>51.9</td>\n",
       "      <td>15.5</td>\n",
       "      <td>30.0</td>\n",
       "      <td>34.0</td>\n",
       "    </tr>\n",
       "    <tr>\n",
       "      <th>3</th>\n",
       "      <td>1</td>\n",
       "      <td>1</td>\n",
       "      <td>-1</td>\n",
       "      <td>6.0</td>\n",
       "      <td>93.2</td>\n",
       "      <td>57.1</td>\n",
       "      <td>92.0</td>\n",
       "      <td>38.0</td>\n",
       "      <td>76.1</td>\n",
       "      <td>52.2</td>\n",
       "      <td>15.2</td>\n",
       "      <td>28.0</td>\n",
       "      <td>34.0</td>\n",
       "    </tr>\n",
       "    <tr>\n",
       "      <th>4</th>\n",
       "      <td>1</td>\n",
       "      <td>1</td>\n",
       "      <td>-1</td>\n",
       "      <td>2.0</td>\n",
       "      <td>91.5</td>\n",
       "      <td>56.3</td>\n",
       "      <td>85.5</td>\n",
       "      <td>36.0</td>\n",
       "      <td>71.0</td>\n",
       "      <td>53.2</td>\n",
       "      <td>15.1</td>\n",
       "      <td>28.5</td>\n",
       "      <td>33.0</td>\n",
       "    </tr>\n",
       "  </tbody>\n",
       "</table>\n",
       "</div>"
      ],
      "text/plain": [
       "   site  Pop  sex  age  hdlngth  skullw  totlngth  taill  footlgth  earconch  \\\n",
       "0     1    1    1  8.0     94.1    60.4      89.0   36.0      74.5      54.5   \n",
       "1     1    1   -1  6.0     92.5    57.6      91.5   36.5      72.5      51.2   \n",
       "2     1    1   -1  6.0     94.0    60.0      95.5   39.0      75.4      51.9   \n",
       "3     1    1   -1  6.0     93.2    57.1      92.0   38.0      76.1      52.2   \n",
       "4     1    1   -1  2.0     91.5    56.3      85.5   36.0      71.0      53.2   \n",
       "\n",
       "    eye  chest  belly  \n",
       "0  15.2   28.0   36.0  \n",
       "1  16.0   28.5   33.0  \n",
       "2  15.5   30.0   34.0  \n",
       "3  15.2   28.0   34.0  \n",
       "4  15.1   28.5   33.0  "
      ]
     },
     "execution_count": 7,
     "metadata": {},
     "output_type": "execute_result"
    }
   ],
   "source": [
    "possumCategTreat = possumNullTreat.copy()\n",
    "\n",
    "possumCategTreat.Pop = possumCategTreat.Pop.map({'Vic':1, 'other':0})\n",
    "possumCategTreat.sex = possumCategTreat.sex.map({'m':1, 'f':-1})\n",
    "\n",
    "possumCategTreat.head()"
   ]
  },
  {
   "cell_type": "markdown",
   "id": "7c02c09b-b131-4016-b9d5-c27c6264cbf6",
   "metadata": {},
   "source": [
    "## Relação entre Pop e site"
   ]
  },
  {
   "cell_type": "code",
   "execution_count": 8,
   "id": "a6559437-da10-4b88-8c9f-a5387b8285a0",
   "metadata": {},
   "outputs": [
    {
     "data": {
      "text/plain": [
       "Pop  site  Pop\n",
       "0    3     0       7\n",
       "     4     0       7\n",
       "     5     0      13\n",
       "     6     0      13\n",
       "     7     0      18\n",
       "1    1     1      33\n",
       "     2     1      13\n",
       "Name: Pop, dtype: int64"
      ]
     },
     "execution_count": 8,
     "metadata": {},
     "output_type": "execute_result"
    }
   ],
   "source": [
    "possumCategTreat.groupby(['Pop', 'site']).Pop.value_counts()"
   ]
  },
  {
   "cell_type": "markdown",
   "id": "13ccddd1-d3a2-4643-9dd1-168eeb86caa3",
   "metadata": {},
   "source": [
    "Nota-se que não há sítios biológicos na fronteira entre estados, então a identificação do local pode auxiliar na identificação do sítio. Infelizmente, como os sítios 3 e 4 possuem menos de 10 exemplares, é possível que uma tentativa de classificação seja infrutífera se não trouxermos algum equilíbrio entre as classes por oversampling. No caso da regressão, é prudente ajustar a coluna size para um outro formato pelo get_dummies, mas antes eu preciso ajustar a escala dos dados, tendo o cuidado de separar o escalonamento entre aquele direcionado para a classificação e o direcionado para a regressão."
   ]
  },
  {
   "cell_type": "markdown",
   "id": "8051cc3c-bead-4215-b980-f9032a88eeb8",
   "metadata": {},
   "source": [
    "## Escalonando os dados"
   ]
  },
  {
   "cell_type": "markdown",
   "id": "664f9264-8427-46bd-870c-63997c4ce372",
   "metadata": {},
   "source": [
    "Como mencionado anteriormente, valores relacionados a medidas são mais interessantes de serem trabalhados com o StandardScaler. Eu poderia escalonar a idade por MinMaxScaler, mas não pareceu ser particularmente útil visto que tantos outros dados estavam utilizando o desvio padrão, então poderia gerar até mesmo uma confusão no modelo.  \n",
    "Para a classificação, vou escalonar todos os dados exceto site, por ser o target, e Pop e sex, por já terem sido tratados. Para a regressão, eu apenas excluirei totlngth do grupo anterior, pois ele será a coluna de target, e vou escalonar site por MinMaxScaler para deixar poucos valores."
   ]
  },
  {
   "cell_type": "code",
   "execution_count": 9,
   "id": "2e898bea-221b-490d-a8ab-6851817e6c4c",
   "metadata": {},
   "outputs": [
    {
     "data": {
      "text/html": [
       "<div>\n",
       "<style scoped>\n",
       "    .dataframe tbody tr th:only-of-type {\n",
       "        vertical-align: middle;\n",
       "    }\n",
       "\n",
       "    .dataframe tbody tr th {\n",
       "        vertical-align: top;\n",
       "    }\n",
       "\n",
       "    .dataframe thead th {\n",
       "        text-align: right;\n",
       "    }\n",
       "</style>\n",
       "<table border=\"1\" class=\"dataframe\">\n",
       "  <thead>\n",
       "    <tr style=\"text-align: right;\">\n",
       "      <th></th>\n",
       "      <th>site</th>\n",
       "      <th>Pop</th>\n",
       "      <th>sex</th>\n",
       "      <th>age</th>\n",
       "      <th>hdlngth</th>\n",
       "      <th>skullw</th>\n",
       "      <th>totlngth</th>\n",
       "      <th>taill</th>\n",
       "      <th>footlgth</th>\n",
       "      <th>earconch</th>\n",
       "      <th>eye</th>\n",
       "      <th>chest</th>\n",
       "      <th>belly</th>\n",
       "    </tr>\n",
       "  </thead>\n",
       "  <tbody>\n",
       "    <tr>\n",
       "      <th>0</th>\n",
       "      <td>1</td>\n",
       "      <td>1</td>\n",
       "      <td>1</td>\n",
       "      <td>2.214538</td>\n",
       "      <td>0.420996</td>\n",
       "      <td>1.134883</td>\n",
       "      <td>0.445603</td>\n",
       "      <td>-0.517732</td>\n",
       "      <td>1.387779</td>\n",
       "      <td>1.557431</td>\n",
       "      <td>0.147177</td>\n",
       "      <td>0.491222</td>\n",
       "      <td>1.241874</td>\n",
       "    </tr>\n",
       "    <tr>\n",
       "      <th>1</th>\n",
       "      <td>1</td>\n",
       "      <td>1</td>\n",
       "      <td>-1</td>\n",
       "      <td>1.151560</td>\n",
       "      <td>-0.028932</td>\n",
       "      <td>0.231197</td>\n",
       "      <td>1.028384</td>\n",
       "      <td>-0.261331</td>\n",
       "      <td>0.928309</td>\n",
       "      <td>0.750501</td>\n",
       "      <td>0.912499</td>\n",
       "      <td>0.736833</td>\n",
       "      <td>0.150424</td>\n",
       "    </tr>\n",
       "    <tr>\n",
       "      <th>2</th>\n",
       "      <td>1</td>\n",
       "      <td>1</td>\n",
       "      <td>-1</td>\n",
       "      <td>1.151560</td>\n",
       "      <td>0.392875</td>\n",
       "      <td>1.005785</td>\n",
       "      <td>1.960834</td>\n",
       "      <td>1.020671</td>\n",
       "      <td>1.594541</td>\n",
       "      <td>0.921668</td>\n",
       "      <td>0.434173</td>\n",
       "      <td>1.473667</td>\n",
       "      <td>0.514241</td>\n",
       "    </tr>\n",
       "    <tr>\n",
       "      <th>3</th>\n",
       "      <td>1</td>\n",
       "      <td>1</td>\n",
       "      <td>-1</td>\n",
       "      <td>1.151560</td>\n",
       "      <td>0.167912</td>\n",
       "      <td>0.069825</td>\n",
       "      <td>1.144941</td>\n",
       "      <td>0.507870</td>\n",
       "      <td>1.755355</td>\n",
       "      <td>0.995025</td>\n",
       "      <td>0.147177</td>\n",
       "      <td>0.491222</td>\n",
       "      <td>0.514241</td>\n",
       "    </tr>\n",
       "    <tr>\n",
       "      <th>4</th>\n",
       "      <td>1</td>\n",
       "      <td>1</td>\n",
       "      <td>-1</td>\n",
       "      <td>-0.974397</td>\n",
       "      <td>-0.310136</td>\n",
       "      <td>-0.188371</td>\n",
       "      <td>-0.370290</td>\n",
       "      <td>-0.517732</td>\n",
       "      <td>0.583706</td>\n",
       "      <td>1.239549</td>\n",
       "      <td>0.051512</td>\n",
       "      <td>0.736833</td>\n",
       "      <td>0.150424</td>\n",
       "    </tr>\n",
       "  </tbody>\n",
       "</table>\n",
       "</div>"
      ],
      "text/plain": [
       "   site  Pop  sex       age   hdlngth    skullw  totlngth     taill  footlgth  \\\n",
       "0     1    1    1  2.214538  0.420996  1.134883  0.445603 -0.517732  1.387779   \n",
       "1     1    1   -1  1.151560 -0.028932  0.231197  1.028384 -0.261331  0.928309   \n",
       "2     1    1   -1  1.151560  0.392875  1.005785  1.960834  1.020671  1.594541   \n",
       "3     1    1   -1  1.151560  0.167912  0.069825  1.144941  0.507870  1.755355   \n",
       "4     1    1   -1 -0.974397 -0.310136 -0.188371 -0.370290 -0.517732  0.583706   \n",
       "\n",
       "   earconch       eye     chest     belly  \n",
       "0  1.557431  0.147177  0.491222  1.241874  \n",
       "1  0.750501  0.912499  0.736833  0.150424  \n",
       "2  0.921668  0.434173  1.473667  0.514241  \n",
       "3  0.995025  0.147177  0.491222  0.514241  \n",
       "4  1.239549  0.051512  0.736833  0.150424  "
      ]
     },
     "execution_count": 9,
     "metadata": {},
     "output_type": "execute_result"
    }
   ],
   "source": [
    "possumScaledCl = possumCategTreat.copy()\n",
    "\n",
    "escalonadorStdCl = preprocessing.StandardScaler()\n",
    "possumScaledCl.iloc[:,3:] = escalonadorStdCl.fit_transform(possumScaledCl.iloc[:,3:])\n",
    "\n",
    "possumScaledCl.head()"
   ]
  },
  {
   "cell_type": "code",
   "execution_count": 10,
   "id": "fec21885-3499-4354-ab32-1676f787ae90",
   "metadata": {},
   "outputs": [
    {
     "data": {
      "text/html": [
       "<div>\n",
       "<style scoped>\n",
       "    .dataframe tbody tr th:only-of-type {\n",
       "        vertical-align: middle;\n",
       "    }\n",
       "\n",
       "    .dataframe tbody tr th {\n",
       "        vertical-align: top;\n",
       "    }\n",
       "\n",
       "    .dataframe thead th {\n",
       "        text-align: right;\n",
       "    }\n",
       "</style>\n",
       "<table border=\"1\" class=\"dataframe\">\n",
       "  <thead>\n",
       "    <tr style=\"text-align: right;\">\n",
       "      <th></th>\n",
       "      <th>site</th>\n",
       "      <th>Pop</th>\n",
       "      <th>sex</th>\n",
       "      <th>age</th>\n",
       "      <th>hdlngth</th>\n",
       "      <th>skullw</th>\n",
       "      <th>totlngth</th>\n",
       "      <th>taill</th>\n",
       "      <th>footlgth</th>\n",
       "      <th>earconch</th>\n",
       "      <th>eye</th>\n",
       "      <th>chest</th>\n",
       "      <th>belly</th>\n",
       "    </tr>\n",
       "  </thead>\n",
       "  <tbody>\n",
       "    <tr>\n",
       "      <th>42</th>\n",
       "      <td>0.166667</td>\n",
       "      <td>1</td>\n",
       "      <td>-1</td>\n",
       "      <td>-0.974397</td>\n",
       "      <td>-0.731943</td>\n",
       "      <td>-0.446567</td>\n",
       "      <td>81.0</td>\n",
       "      <td>-2.568935</td>\n",
       "      <td>0.813441</td>\n",
       "      <td>0.310358</td>\n",
       "      <td>-1.574796</td>\n",
       "      <td>0.982445</td>\n",
       "      <td>-0.577209</td>\n",
       "    </tr>\n",
       "    <tr>\n",
       "      <th>12</th>\n",
       "      <td>0.000000</td>\n",
       "      <td>1</td>\n",
       "      <td>1</td>\n",
       "      <td>0.620071</td>\n",
       "      <td>0.702201</td>\n",
       "      <td>0.973511</td>\n",
       "      <td>89.5</td>\n",
       "      <td>-0.517732</td>\n",
       "      <td>0.583706</td>\n",
       "      <td>0.408167</td>\n",
       "      <td>0.721168</td>\n",
       "      <td>0.000000</td>\n",
       "      <td>-0.213392</td>\n",
       "    </tr>\n",
       "    <tr>\n",
       "      <th>51</th>\n",
       "      <td>0.333333</td>\n",
       "      <td>0</td>\n",
       "      <td>1</td>\n",
       "      <td>1.151560</td>\n",
       "      <td>1.405212</td>\n",
       "      <td>1.328530</td>\n",
       "      <td>93.5</td>\n",
       "      <td>1.533472</td>\n",
       "      <td>-0.128473</td>\n",
       "      <td>-0.936716</td>\n",
       "      <td>0.721168</td>\n",
       "      <td>0.736833</td>\n",
       "      <td>-0.031484</td>\n",
       "    </tr>\n",
       "    <tr>\n",
       "      <th>48</th>\n",
       "      <td>0.333333</td>\n",
       "      <td>0</td>\n",
       "      <td>1</td>\n",
       "      <td>0.088582</td>\n",
       "      <td>0.786562</td>\n",
       "      <td>0.747589</td>\n",
       "      <td>85.0</td>\n",
       "      <td>-0.004931</td>\n",
       "      <td>0.124235</td>\n",
       "      <td>-0.765549</td>\n",
       "      <td>0.816834</td>\n",
       "      <td>1.228056</td>\n",
       "      <td>1.059966</td>\n",
       "    </tr>\n",
       "    <tr>\n",
       "      <th>103</th>\n",
       "      <td>1.000000</td>\n",
       "      <td>0</td>\n",
       "      <td>-1</td>\n",
       "      <td>-0.442908</td>\n",
       "      <td>0.280394</td>\n",
       "      <td>0.973511</td>\n",
       "      <td>89.0</td>\n",
       "      <td>1.533472</td>\n",
       "      <td>-0.197394</td>\n",
       "      <td>-0.521025</td>\n",
       "      <td>-0.235484</td>\n",
       "      <td>0.736833</td>\n",
       "      <td>0.332332</td>\n",
       "    </tr>\n",
       "  </tbody>\n",
       "</table>\n",
       "</div>"
      ],
      "text/plain": [
       "         site  Pop  sex       age   hdlngth    skullw  totlngth     taill  \\\n",
       "42   0.166667    1   -1 -0.974397 -0.731943 -0.446567      81.0 -2.568935   \n",
       "12   0.000000    1    1  0.620071  0.702201  0.973511      89.5 -0.517732   \n",
       "51   0.333333    0    1  1.151560  1.405212  1.328530      93.5  1.533472   \n",
       "48   0.333333    0    1  0.088582  0.786562  0.747589      85.0 -0.004931   \n",
       "103  1.000000    0   -1 -0.442908  0.280394  0.973511      89.0  1.533472   \n",
       "\n",
       "     footlgth  earconch       eye     chest     belly  \n",
       "42   0.813441  0.310358 -1.574796  0.982445 -0.577209  \n",
       "12   0.583706  0.408167  0.721168  0.000000 -0.213392  \n",
       "51  -0.128473 -0.936716  0.721168  0.736833 -0.031484  \n",
       "48   0.124235 -0.765549  0.816834  1.228056  1.059966  \n",
       "103 -0.197394 -0.521025 -0.235484  0.736833  0.332332  "
      ]
     },
     "execution_count": 10,
     "metadata": {},
     "output_type": "execute_result"
    }
   ],
   "source": [
    "possumScaledRg = possumCategTreat.copy()\n",
    "\n",
    "escalonadorStdRg = preprocessing.StandardScaler()\n",
    "escalonadorMinMaxRg = preprocessing.MinMaxScaler()\n",
    "possumScaledRg.site = escalonadorMinMaxRg.fit_transform(np.array(possumScaledRg.site).reshape(-1, 1))\n",
    "possumScaledRg.iloc[:,3:6] = escalonadorStdRg.fit_transform(possumScaledRg.iloc[:,3:6])\n",
    "possumScaledRg.iloc[:,7:] = escalonadorStdRg.fit_transform(possumScaledRg.iloc[:,7:])\n",
    "\n",
    "possumScaledRg.sample(5)"
   ]
  },
  {
   "cell_type": "markdown",
   "id": "16f46a7d-c0b4-4073-ac0c-b30118c8307b",
   "metadata": {},
   "source": [
    "## Sobreamostragem (Classificação)"
   ]
  },
  {
   "cell_type": "code",
   "execution_count": 11,
   "id": "22db6cf2-0a35-4f22-ab82-94fa4e68119f",
   "metadata": {},
   "outputs": [
    {
     "data": {
      "text/plain": [
       "Pop  site  Pop\n",
       "0    3     0       7\n",
       "     4     0       7\n",
       "     5     0      13\n",
       "     6     0      13\n",
       "     7     0      18\n",
       "1    1     1      33\n",
       "     2     1      13\n",
       "Name: Pop, dtype: int64"
      ]
     },
     "execution_count": 11,
     "metadata": {},
     "output_type": "execute_result"
    }
   ],
   "source": [
    "possumScaledCl.groupby(['Pop', 'site']).Pop.value_counts()"
   ]
  },
  {
   "cell_type": "markdown",
   "id": "8d815dd7-b6c7-4780-8d89-815eb55e73a9",
   "metadata": {},
   "source": [
    "Nos modelos de classificação, pretendo identificar o sítio de captura dos indivíduos. Porém, como se pode perceber, há uma grande divergência entre as sete classes. Dessa maneira, vou concatenar o DataFrame com elementos de cada classe até todas terem ao menos 30 elementos. Ou seja, vou concatenar o DataFrame com os elementos dos sites 3 e 4 quatro vezes (totalizando 35 observações em cada um), dos sites 2, 5 e 6 duas vezes (totalizando 39 observações), e do site 7 uma vez (totalizando 36 observações)."
   ]
  },
  {
   "cell_type": "code",
   "execution_count": 12,
   "id": "cc1e8273-1804-4420-9d95-cca13b7894f2",
   "metadata": {},
   "outputs": [
    {
     "name": "stdout",
     "output_type": "stream",
     "text": [
      "<class 'pandas.core.frame.DataFrame'>\n",
      "RangeIndex: 256 entries, 0 to 255\n",
      "Data columns (total 13 columns):\n",
      " #   Column    Non-Null Count  Dtype  \n",
      "---  ------    --------------  -----  \n",
      " 0   site      256 non-null    int64  \n",
      " 1   Pop       256 non-null    int64  \n",
      " 2   sex       256 non-null    int64  \n",
      " 3   age       256 non-null    float64\n",
      " 4   hdlngth   256 non-null    float64\n",
      " 5   skullw    256 non-null    float64\n",
      " 6   totlngth  256 non-null    float64\n",
      " 7   taill     256 non-null    float64\n",
      " 8   footlgth  256 non-null    float64\n",
      " 9   earconch  256 non-null    float64\n",
      " 10  eye       256 non-null    float64\n",
      " 11  chest     256 non-null    float64\n",
      " 12  belly     256 non-null    float64\n",
      "dtypes: float64(10), int64(3)\n",
      "memory usage: 26.1 KB\n"
     ]
    }
   ],
   "source": [
    "possumOversampled = possumScaledCl.copy()\n",
    "\n",
    "possumSite2 = possumOversampled[possumOversampled.site==2]\n",
    "possumSite3 = possumOversampled[possumOversampled.site==3]\n",
    "possumSite4 = possumOversampled[possumOversampled.site==4]\n",
    "possumSite5 = possumOversampled[possumOversampled.site==5]\n",
    "possumSite6 = possumOversampled[possumOversampled.site==6]\n",
    "possumSite7 = possumOversampled[possumOversampled.site==7]\n",
    "\n",
    "possumOversampled = pd.concat([possumOversampled, possumSite2, possumSite2, possumSite3, possumSite3, possumSite3, \n",
    "                               possumSite3, possumSite4, possumSite4, possumSite4, possumSite4, possumSite5, \n",
    "                               possumSite5, possumSite6, possumSite6, possumSite7], axis=0)\n",
    "\n",
    "possumOversampled = possumOversampled.reset_index()\n",
    "possumOversampled = possumOversampled.drop('index', axis=1)\n",
    "\n",
    "possumOversampled.info()"
   ]
  },
  {
   "cell_type": "markdown",
   "id": "fb6baf74-b27e-4c74-815d-a082e832d15b",
   "metadata": {},
   "source": [
    "# (c) Divisão dos dados"
   ]
  },
  {
   "cell_type": "markdown",
   "id": "6400647c-11e2-4a31-be47-439f01270830",
   "metadata": {},
   "source": [
    "## DataFrame de Classificação"
   ]
  },
  {
   "cell_type": "markdown",
   "id": "345f56ca-2714-401f-84ab-aee6594064af",
   "metadata": {},
   "source": [
    "Como visto anteriormente, o DataFrame de classificação, após a sobreamostragem, ficou com 256 elementos. Eu pretendo fazer um conjunto de validação com aproximadamente 15% da base e classes estratificadas, ou seja, 35 elementos. No caso dos testes, também vou fazer o conjunto com aproximadamente 15%, deixando o treino com pouco mais de 70% dos elementos."
   ]
  },
  {
   "cell_type": "code",
   "execution_count": 13,
   "id": "0e8aa5a2-1532-46ba-8959-46b030f795e9",
   "metadata": {},
   "outputs": [
    {
     "name": "stdout",
     "output_type": "stream",
     "text": [
      "    Pop  sex       age   hdlngth    skullw  totlngth     taill  footlgth  \\\n",
      "8     1   -1  2.746027  0.224153 -0.188371  1.028384 -0.004931  0.905335   \n",
      "15    1    1  0.088582 -0.282016 -0.285195 -0.253734 -1.286933  1.043176   \n",
      "17    1    1 -0.974397  0.252273 -0.382018  0.678716 -0.517732  1.203991   \n",
      "26    1   -1 -0.974397 -0.591341 -0.769312 -0.486846 -1.030532  0.422891   \n",
      "31    1   -1  0.088582  0.477237 -0.059273  1.611166  1.020671  1.456699   \n",
      "\n",
      "    earconch       eye     chest     belly  \n",
      "8   1.166192  0.434173  0.491222  0.150424  \n",
      "15  0.799406 -0.618144  0.491222 -0.213392  \n",
      "17  1.777502  0.242842  0.491222 -0.213392  \n",
      "26  0.652691 -0.809475 -1.964889 -1.668659  \n",
      "31  0.946120 -0.139818  0.491222  0.514241   \n",
      "\n",
      "8     1\n",
      "15    1\n",
      "17    1\n",
      "26    1\n",
      "31    1\n",
      "Name: site, dtype: int64\n"
     ]
    }
   ],
   "source": [
    "clas_val = pd.concat([possumOversampled[possumOversampled.site==1].sample(5, random_state=42), \n",
    "                      possumOversampled[possumOversampled.site==2].sample(5, random_state=42), \n",
    "                      possumOversampled[possumOversampled.site==3].sample(5, random_state=42), \n",
    "                      possumOversampled[possumOversampled.site==4].sample(5, random_state=42), \n",
    "                      possumOversampled[possumOversampled.site==5].sample(5, random_state=42), \n",
    "                      possumOversampled[possumOversampled.site==6].sample(5, random_state=42), \n",
    "                      possumOversampled[possumOversampled.site==7].sample(5, random_state=42)])\n",
    "\n",
    "clas_val = clas_val.sort_index()\n",
    "\n",
    "clas_Xval = clas_val.drop('site', axis=1).copy()\n",
    "clas_yval = clas_val.site.copy()\n",
    "\n",
    "print(clas_Xval.head(), '\\n')\n",
    "print(clas_yval.head())"
   ]
  },
  {
   "cell_type": "code",
   "execution_count": 14,
   "id": "8b0de9ee-cbbe-4245-8c88-22f9287c531b",
   "metadata": {},
   "outputs": [
    {
     "name": "stdout",
     "output_type": "stream",
     "text": [
      "<class 'pandas.core.frame.DataFrame'>\n",
      "Int64Index: 186 entries, 184 to 115\n",
      "Data columns (total 12 columns):\n",
      " #   Column    Non-Null Count  Dtype  \n",
      "---  ------    --------------  -----  \n",
      " 0   Pop       186 non-null    int64  \n",
      " 1   sex       186 non-null    int64  \n",
      " 2   age       186 non-null    float64\n",
      " 3   hdlngth   186 non-null    float64\n",
      " 4   skullw    186 non-null    float64\n",
      " 5   totlngth  186 non-null    float64\n",
      " 6   taill     186 non-null    float64\n",
      " 7   footlgth  186 non-null    float64\n",
      " 8   earconch  186 non-null    float64\n",
      " 9   eye       186 non-null    float64\n",
      " 10  chest     186 non-null    float64\n",
      " 11  belly     186 non-null    float64\n",
      "dtypes: float64(10), int64(2)\n",
      "memory usage: 18.9 KB\n",
      "None \n",
      "\n",
      "<class 'pandas.core.frame.DataFrame'>\n",
      "Int64Index: 35 entries, 123 to 171\n",
      "Data columns (total 12 columns):\n",
      " #   Column    Non-Null Count  Dtype  \n",
      "---  ------    --------------  -----  \n",
      " 0   Pop       35 non-null     int64  \n",
      " 1   sex       35 non-null     int64  \n",
      " 2   age       35 non-null     float64\n",
      " 3   hdlngth   35 non-null     float64\n",
      " 4   skullw    35 non-null     float64\n",
      " 5   totlngth  35 non-null     float64\n",
      " 6   taill     35 non-null     float64\n",
      " 7   footlgth  35 non-null     float64\n",
      " 8   earconch  35 non-null     float64\n",
      " 9   eye       35 non-null     float64\n",
      " 10  chest     35 non-null     float64\n",
      " 11  belly     35 non-null     float64\n",
      "dtypes: float64(10), int64(2)\n",
      "memory usage: 3.6 KB\n",
      "None \n",
      "\n",
      "<class 'pandas.core.series.Series'>\n",
      "Int64Index: 186 entries, 184 to 115\n",
      "Series name: site\n",
      "Non-Null Count  Dtype\n",
      "--------------  -----\n",
      "186 non-null    int64\n",
      "dtypes: int64(1)\n",
      "memory usage: 2.9 KB\n",
      "None \n",
      "\n",
      "<class 'pandas.core.series.Series'>\n",
      "Int64Index: 35 entries, 123 to 171\n",
      "Series name: site\n",
      "Non-Null Count  Dtype\n",
      "--------------  -----\n",
      "35 non-null     int64\n",
      "dtypes: int64(1)\n",
      "memory usage: 560.0 bytes\n",
      "None\n"
     ]
    }
   ],
   "source": [
    "clas_Xsplit = possumOversampled.drop('site', axis=1).drop(clas_Xval.index).copy()\n",
    "clas_ysplit = possumOversampled.site.drop(clas_yval.index).copy()\n",
    "\n",
    "clas_Xtrain, clas_Xtest, clas_ytrain, clas_ytest = model_selection.train_test_split(clas_Xsplit, clas_ysplit, \n",
    "                                                                                    test_size=35, stratify=clas_ysplit)\n",
    "\n",
    "print(clas_Xtrain.info(), '\\n')\n",
    "print(clas_Xtest.info(), '\\n')\n",
    "print(clas_ytrain.info(), '\\n')\n",
    "print(clas_ytest.info())"
   ]
  },
  {
   "cell_type": "markdown",
   "id": "24a67100-4502-4fad-9edf-e95200fc5923",
   "metadata": {},
   "source": [
    "## DataFrame de Regressão"
   ]
  },
  {
   "cell_type": "code",
   "execution_count": 15,
   "id": "aea23509-7c3d-46a6-b631-6822251d487a",
   "metadata": {},
   "outputs": [
    {
     "data": {
      "text/plain": [
       "104"
      ]
     },
     "execution_count": 15,
     "metadata": {},
     "output_type": "execute_result"
    }
   ],
   "source": [
    "possumScaledRg.shape[0]"
   ]
  },
  {
   "cell_type": "markdown",
   "id": "582209fe-9ee5-4606-b0c8-8721ed89ded0",
   "metadata": {},
   "source": [
    "No caso da regressão, tenho 104 elementos, mas não preciso me preocupar com estratificação dessa vez. Portanto, farei uma simples amostragem de 15 elementos para validação e 15 para teste, e o resto para treino."
   ]
  },
  {
   "cell_type": "code",
   "execution_count": 16,
   "id": "faabc259-359c-463b-bb31-ab40e0e3a07a",
   "metadata": {},
   "outputs": [
    {
     "name": "stdout",
     "output_type": "stream",
     "text": [
      "        site  Pop  sex           age   hdlngth    skullw     taill  footlgth  \\\n",
      "30  0.000000    1    1 -4.429077e-01  0.055430 -0.898410 -0.004931 -0.105500   \n",
      "65  0.666667    0   -1 -4.429077e-01 -0.619461 -0.349744 -0.261331 -1.208229   \n",
      "64  0.666667    0   -1  6.200707e-01  0.252273  0.166648  0.507870 -0.059553   \n",
      "53  0.500000    0    1  1.683049e+00  1.208369  1.974020  3.071874  0.652626   \n",
      "45  0.166667    1    1  2.360286e-16 -0.338257 -0.801587 -1.030532  0.997229   \n",
      "\n",
      "    earconch       eye     chest     belly  \n",
      "30  1.068382 -0.522479  0.000000 -0.577209  \n",
      "65 -0.961168  0.625503 -0.245611  0.514241  \n",
      "64 -1.572478 -1.000805  0.982445  2.151415  \n",
      "53 -0.521025  2.347477  1.473667  1.423782  \n",
      "45  0.750501 -0.618144 -1.228056  0.878057   \n",
      "\n",
      "30    93.0\n",
      "65    86.0\n",
      "64    88.5\n",
      "53    91.5\n",
      "45    84.0\n",
      "Name: totlngth, dtype: float64\n"
     ]
    }
   ],
   "source": [
    "regr_val = possumScaledRg.sample(15, random_state=42).copy()\n",
    "\n",
    "regr_Xval = regr_val.drop('totlngth', axis=1).copy()\n",
    "regr_yval = regr_val.totlngth.copy()\n",
    "\n",
    "print(regr_Xval.head(), '\\n')\n",
    "print(regr_yval.head())"
   ]
  },
  {
   "cell_type": "code",
   "execution_count": 17,
   "id": "29547f73-4cc3-4394-8409-d4a3f5c046c6",
   "metadata": {},
   "outputs": [
    {
     "name": "stdout",
     "output_type": "stream",
     "text": [
      "<class 'pandas.core.frame.DataFrame'>\n",
      "Int64Index: 74 entries, 27 to 84\n",
      "Data columns (total 12 columns):\n",
      " #   Column    Non-Null Count  Dtype  \n",
      "---  ------    --------------  -----  \n",
      " 0   site      74 non-null     float64\n",
      " 1   Pop       74 non-null     int64  \n",
      " 2   sex       74 non-null     int64  \n",
      " 3   age       74 non-null     float64\n",
      " 4   hdlngth   74 non-null     float64\n",
      " 5   skullw    74 non-null     float64\n",
      " 6   taill     74 non-null     float64\n",
      " 7   footlgth  74 non-null     float64\n",
      " 8   earconch  74 non-null     float64\n",
      " 9   eye       74 non-null     float64\n",
      " 10  chest     74 non-null     float64\n",
      " 11  belly     74 non-null     float64\n",
      "dtypes: float64(10), int64(2)\n",
      "memory usage: 7.5 KB\n",
      "None \n",
      "\n",
      "<class 'pandas.core.frame.DataFrame'>\n",
      "Int64Index: 15 entries, 83 to 22\n",
      "Data columns (total 12 columns):\n",
      " #   Column    Non-Null Count  Dtype  \n",
      "---  ------    --------------  -----  \n",
      " 0   site      15 non-null     float64\n",
      " 1   Pop       15 non-null     int64  \n",
      " 2   sex       15 non-null     int64  \n",
      " 3   age       15 non-null     float64\n",
      " 4   hdlngth   15 non-null     float64\n",
      " 5   skullw    15 non-null     float64\n",
      " 6   taill     15 non-null     float64\n",
      " 7   footlgth  15 non-null     float64\n",
      " 8   earconch  15 non-null     float64\n",
      " 9   eye       15 non-null     float64\n",
      " 10  chest     15 non-null     float64\n",
      " 11  belly     15 non-null     float64\n",
      "dtypes: float64(10), int64(2)\n",
      "memory usage: 1.5 KB\n",
      "None \n",
      "\n",
      "<class 'pandas.core.series.Series'>\n",
      "Int64Index: 74 entries, 27 to 84\n",
      "Series name: totlngth\n",
      "Non-Null Count  Dtype  \n",
      "--------------  -----  \n",
      "74 non-null     float64\n",
      "dtypes: float64(1)\n",
      "memory usage: 1.2 KB\n",
      "None \n",
      "\n",
      "<class 'pandas.core.series.Series'>\n",
      "Int64Index: 15 entries, 83 to 22\n",
      "Series name: totlngth\n",
      "Non-Null Count  Dtype  \n",
      "--------------  -----  \n",
      "15 non-null     float64\n",
      "dtypes: float64(1)\n",
      "memory usage: 240.0 bytes\n",
      "None\n"
     ]
    }
   ],
   "source": [
    "regr_Xsplit = possumScaledRg.drop('totlngth', axis=1).drop(regr_Xval.index).copy()\n",
    "regr_ysplit = possumScaledRg.totlngth.drop(regr_yval.index).copy()\n",
    "\n",
    "regr_Xtrain, regr_Xtest, regr_ytrain, regr_ytest = model_selection.train_test_split(regr_Xsplit, regr_ysplit, test_size=15)\n",
    "\n",
    "print(regr_Xtrain.info(), '\\n')\n",
    "print(regr_Xtest.info(), '\\n')\n",
    "print(regr_ytrain.info(), '\\n')\n",
    "print(regr_ytest.info())"
   ]
  },
  {
   "cell_type": "markdown",
   "id": "99f4477a-0f01-4c7d-b0a8-11357228bdca",
   "metadata": {},
   "source": [
    "# (d) Modelos escolhidos"
   ]
  },
  {
   "cell_type": "markdown",
   "id": "fc3aede0-220e-43f3-9804-85b16f1db86a",
   "metadata": {},
   "source": [
    "Decidi usar os modelos KNN e Bagging para a classificação e a regressão. No caso do Bagging, eu decidi utilizar um agrupamento de máquinas de vetor de suporte."
   ]
  },
  {
   "cell_type": "markdown",
   "id": "08edca27-f91a-4dc8-9e34-19a58c145648",
   "metadata": {},
   "source": [
    "## Modelos de Classificação"
   ]
  },
  {
   "cell_type": "markdown",
   "id": "0318e555-bdb7-4abd-946f-05334ce76084",
   "metadata": {},
   "source": [
    "Para a identificação dos sítios de captura, eu utilizei os modelos KNeighborsClassifier (KNN de classificação), e BaggingClassifier (Bagging de classificação)."
   ]
  },
  {
   "cell_type": "code",
   "execution_count": 18,
   "id": "ff4556fe-9676-484b-9d36-2223584e941f",
   "metadata": {},
   "outputs": [
    {
     "name": "stdout",
     "output_type": "stream",
     "text": [
      "Acurácia do KNN no teste: 74.29\n",
      "Acurácia do KNN na validação: 71.43\n"
     ]
    }
   ],
   "source": [
    "clasKNN = neighbors.KNeighborsClassifier(n_neighbors=3, metric='manhattan')\n",
    "clasKNN.fit(clas_Xtrain, clas_ytrain)\n",
    "\n",
    "print('Acurácia do KNN no teste:', round(clasKNN.score(clas_Xtest, clas_ytest)*100,2))\n",
    "print('Acurácia do KNN na validação:', round(clasKNN.score(clas_Xval, clas_yval)*100,2))"
   ]
  },
  {
   "cell_type": "code",
   "execution_count": 19,
   "id": "a1b800e8-0635-4fd9-b4c0-f2f36450fe84",
   "metadata": {},
   "outputs": [
    {
     "name": "stdout",
     "output_type": "stream",
     "text": [
      "[[2 3 0 0 0 0 0]\n",
      " [0 5 0 0 0 0 0]\n",
      " [0 0 2 0 3 0 0]\n",
      " [0 0 0 5 0 0 0]\n",
      " [0 0 1 0 2 0 2]\n",
      " [0 0 0 0 0 5 0]\n",
      " [0 0 0 0 0 0 5]]\n",
      "\n",
      "\n",
      "[[4 1 0 0 0 0 0]\n",
      " [2 3 0 0 0 0 0]\n",
      " [0 0 4 0 1 0 0]\n",
      " [0 0 0 5 0 0 0]\n",
      " [0 0 2 0 3 0 0]\n",
      " [0 0 0 0 0 5 0]\n",
      " [0 0 2 0 1 1 1]]\n"
     ]
    }
   ],
   "source": [
    "print(metrics.confusion_matrix(clas_ytest, clasKNN.predict(clas_Xtest)))\n",
    "print('\\n')\n",
    "print(metrics.confusion_matrix(clas_yval, clasKNN.predict(clas_Xval)))"
   ]
  },
  {
   "cell_type": "code",
   "execution_count": 20,
   "id": "54672c7b-18bd-400e-9ba6-52f322f1ee29",
   "metadata": {},
   "outputs": [
    {
     "name": "stdout",
     "output_type": "stream",
     "text": [
      "Acurácia do Bagging-SVM no teste: 82.86\n",
      "Acurácia do Bagging-SVM na validação: 85.71\n"
     ]
    }
   ],
   "source": [
    "clasSVM = svm.SVC(kernel='linear')\n",
    "clasBagging = ensemble.BaggingClassifier(estimator=clasSVM, n_estimators=5)\n",
    "clasBagging.fit(clas_Xtrain, clas_ytrain)\n",
    "\n",
    "print('Acurácia do Bagging-SVM no teste:', round(clasBagging.score(clas_Xtest, clas_ytest)*100,2))\n",
    "print('Acurácia do Bagging-SVM na validação:', round(clasBagging.score(clas_Xval, clas_yval)*100,2))"
   ]
  },
  {
   "cell_type": "code",
   "execution_count": 21,
   "id": "dae5c2d9-eda0-4b89-bdd3-b80277ded3cf",
   "metadata": {},
   "outputs": [
    {
     "name": "stdout",
     "output_type": "stream",
     "text": [
      "[[4 1 0 0 0 0 0]\n",
      " [2 3 0 0 0 0 0]\n",
      " [0 0 5 0 0 0 0]\n",
      " [0 0 0 5 0 0 0]\n",
      " [0 0 1 0 4 0 0]\n",
      " [0 0 1 0 0 4 0]\n",
      " [0 0 0 0 1 0 4]]\n",
      "\n",
      "\n",
      "[[4 1 0 0 0 0 0]\n",
      " [0 5 0 0 0 0 0]\n",
      " [0 0 5 0 0 0 0]\n",
      " [0 0 0 5 0 0 0]\n",
      " [0 0 2 0 2 1 0]\n",
      " [0 0 0 0 0 5 0]\n",
      " [0 0 0 1 0 0 4]]\n"
     ]
    }
   ],
   "source": [
    "print(metrics.confusion_matrix(clas_ytest, clasBagging.predict(clas_Xtest)))\n",
    "print('\\n')\n",
    "print(metrics.confusion_matrix(clas_yval, clasBagging.predict(clas_Xval)))"
   ]
  },
  {
   "cell_type": "markdown",
   "id": "ad9d69ff-ef9d-4fe4-9222-cd1e181d5af0",
   "metadata": {},
   "source": [
    "O Bagging-SVM se mostrou significativamente mais consistente do que o KNN.  \n",
    "O KNN se mostrou muito melhor no teste do que na validação. No teste, ele teve dificuldades para identificar corretamente as classes 1, 2 e 5; na validação, a dificuldade também foi em 1, 2 e 5, mas também na classificação 7.  \n",
    "O Bagging-SVM se mostrou melhor no teste do que na validação. No teste, ele teve dificuldades para identificar corretamente as classes 2, 5 e 6; na validação, a dificuldade também foi em 2 e 5, mas também nas classificações 1 e 7."
   ]
  },
  {
   "cell_type": "markdown",
   "id": "b5fcad4e-a523-4b90-8412-de609de87cd4",
   "metadata": {},
   "source": [
    "## Modelos de Regressão"
   ]
  },
  {
   "cell_type": "markdown",
   "id": "5ce839e3-3bf2-4602-914d-d84a9e73c15a",
   "metadata": {},
   "source": [
    "Para regressão do tamanho total, eu utilizei os modelos KNeighborsRegressor (KNN de regressão), e BaggingRegressor (Bagging de regressão)."
   ]
  },
  {
   "cell_type": "code",
   "execution_count": 22,
   "id": "111f5872-29b1-4954-868f-f2a9700e21b8",
   "metadata": {},
   "outputs": [
    {
     "name": "stdout",
     "output_type": "stream",
     "text": [
      "R² do KNN no teste: 58.52\n",
      "MSQ do KNN no teste: 7.4873\n",
      "R² do KNN na validação: 53.04\n",
      "MSQ do KNN no teste: 6.7125\n"
     ]
    }
   ],
   "source": [
    "regrKNN = neighbors.KNeighborsRegressor(n_neighbors=3, metric='manhattan')\n",
    "regrKNN.fit(regr_Xtrain, regr_ytrain)\n",
    "\n",
    "print('R² do KNN no teste:', round(metrics.r2_score(regr_ytest, regrKNN.predict(regr_Xtest))*100,2))\n",
    "print('MSQ do KNN no teste:', round(metrics.mean_squared_error(regr_ytest, regrKNN.predict(regr_Xtest)),4))\n",
    "print('R² do KNN na validação:', round(metrics.r2_score(regr_yval, regrKNN.predict(regr_Xval))*100,2))\n",
    "print('MSQ do KNN no teste:', round(metrics.mean_squared_error(regr_yval, regrKNN.predict(regr_Xval)),4))"
   ]
  },
  {
   "cell_type": "code",
   "execution_count": 23,
   "id": "268d4a3b-f6f5-4f69-a8ae-227e2083f795",
   "metadata": {},
   "outputs": [
    {
     "name": "stdout",
     "output_type": "stream",
     "text": [
      "R² do Bagging-SVM no teste: 69.57\n",
      "MSQ do Bagging-SVM no teste: 5.4927\n",
      "R² do Bagging-SVM na validação: 31.25\n",
      "MSQ do Bagging-SVM no teste: 9.8284\n"
     ]
    }
   ],
   "source": [
    "regrSVM = svm.SVR(kernel='linear')\n",
    "regrBagging = ensemble.BaggingRegressor(estimator=regrSVM, n_estimators=5)\n",
    "regrBagging.fit(regr_Xtrain, regr_ytrain)\n",
    "\n",
    "print('R² do Bagging-SVM no teste:', round(metrics.r2_score(regr_ytest, regrBagging.predict(regr_Xtest))*100,2))\n",
    "print('MSQ do Bagging-SVM no teste:', round(metrics.mean_squared_error(regr_ytest, regrBagging.predict(regr_Xtest)),4))\n",
    "print('R² do Bagging-SVM na validação:', round(metrics.r2_score(regr_yval, regrBagging.predict(regr_Xval))*100,2))\n",
    "print('MSQ do Bagging-SVM no teste:', round(metrics.mean_squared_error(regr_yval, regrBagging.predict(regr_Xval)),4))"
   ]
  },
  {
   "cell_type": "markdown",
   "id": "719423df-8bcd-4b4e-aea6-59b48a0d2475",
   "metadata": {},
   "source": [
    "O Bagging-SVM se mostrou melhor do que o KNN, mas apenas no teste. Na validação, ambos ficaram muito ineficientes.  \n",
    "Talvez a quantidade de dados tenha sido a variável que causou as divergências maiores, uma vez que havia apenas 15 elementos de teste e 15 de validação.  "
   ]
  },
  {
   "cell_type": "markdown",
   "id": "248edbaf-4241-4e53-8975-310a1efd09b8",
   "metadata": {
    "tags": []
   },
   "source": [
    "# (e) Ajustes nos parâmetros"
   ]
  },
  {
   "cell_type": "markdown",
   "id": "7d8847b7-d07e-4461-afc1-32d389cddf9a",
   "metadata": {},
   "source": [
    "## KNN"
   ]
  },
  {
   "cell_type": "markdown",
   "id": "3c1b7719-d076-4a7e-9d38-0482c3357211",
   "metadata": {},
   "source": [
    "Os principais elementos do KNN, seja o classificador ou o regressor, são n_neighbors (quantidade de elementos \"vizinhos\" para representar uma classificação, padronizado em 5) e metric (método de calcular a distância entre dois pontos, padronizado em 'minkowski'). Vou demonstrar os resultados sem alterar os parâmetros padrão."
   ]
  },
  {
   "cell_type": "code",
   "execution_count": 24,
   "id": "1800a7f3-9b0f-490c-b85a-67c2a88ec1a3",
   "metadata": {},
   "outputs": [
    {
     "name": "stdout",
     "output_type": "stream",
     "text": [
      "Acurácia do KNN no teste: 62.86\n",
      "Acurácia do KNN na validação: 68.57\n"
     ]
    }
   ],
   "source": [
    "clasKNNPadrao = neighbors.KNeighborsClassifier()\n",
    "clasKNNPadrao.fit(clas_Xtrain, clas_ytrain)\n",
    "\n",
    "print('Acurácia do KNN no teste:', round(clasKNNPadrao.score(clas_Xtest, clas_ytest)*100,2))\n",
    "print('Acurácia do KNN na validação:', round(clasKNNPadrao.score(clas_Xval, clas_yval)*100,2))"
   ]
  },
  {
   "cell_type": "code",
   "execution_count": 25,
   "id": "f11020cf-4b58-4872-8fa0-27fb5964296a",
   "metadata": {},
   "outputs": [
    {
     "name": "stdout",
     "output_type": "stream",
     "text": [
      "R² do KNN no teste: 44.26\n",
      "MSQ do KNN no teste: 10.0605\n",
      "R² do KNN na validação: 57.63\n",
      "MSQ do KNN no teste: 6.0566\n"
     ]
    }
   ],
   "source": [
    "regrKNNPadrao = neighbors.KNeighborsRegressor()\n",
    "regrKNNPadrao.fit(regr_Xtrain, regr_ytrain)\n",
    "\n",
    "print('R² do KNN no teste:', round(metrics.r2_score(regr_ytest, regrKNNPadrao.predict(regr_Xtest))*100,2))\n",
    "print('MSQ do KNN no teste:', round(metrics.mean_squared_error(regr_ytest, regrKNNPadrao.predict(regr_Xtest)),4))\n",
    "print('R² do KNN na validação:', round(metrics.r2_score(regr_yval, regrKNNPadrao.predict(regr_Xval))*100,2))\n",
    "print('MSQ do KNN no teste:', round(metrics.mean_squared_error(regr_yval, regrKNNPadrao.predict(regr_Xval)),4))"
   ]
  },
  {
   "cell_type": "markdown",
   "id": "d574e171-4c2e-4609-ab51-4018e4a4fce2",
   "metadata": {},
   "source": [
    "No caso da classificação, os parâmetros padrão mantiveram a acurácia da validação, mas a acurácia do teste teve uma queda severa, ficando até mesmo inferior à da validação.  \n",
    "No caso da regressão, também houve uma redução severa na explicabilidade da variável totlngth no teste enquanto a validação teve uma melhora significativa com os parâmetros padrão.  \n",
    "De um modo geral, o modelo KNN operou melhor com n_neighbors=3 e metric='manhattan'.  "
   ]
  },
  {
   "cell_type": "markdown",
   "id": "b7bf5087-de44-4a35-82f3-4c038f65f5f5",
   "metadata": {},
   "source": [
    "## Bagging-SVM"
   ]
  },
  {
   "cell_type": "markdown",
   "id": "895f58f3-4e92-449d-b98a-45e2127281d8",
   "metadata": {},
   "source": [
    "Por si só, um Bagging é apenas um agrupamento de modelos, então os parâmetros mais importantes dele são estimator (modelo a ser agrupado, padronizado em DecisionTreeClassifier para classificação ou DecisionTreeRegressor para regressão) e n_estimators (quantidade de estimadores no grupo, padronizada em 10). Como o modelo utilizado como estimator foi o SVM, convém enfatizar que parâmetro mais relevante para ele é kernel (metodologia utilizada para matrizes, padronizada em 'rbf'). Vou demonstrar os resultados sem alterar os parâmetros padrão."
   ]
  },
  {
   "cell_type": "code",
   "execution_count": 26,
   "id": "143a6039-4bae-4737-96a5-bcbfa0b398fc",
   "metadata": {},
   "outputs": [
    {
     "name": "stdout",
     "output_type": "stream",
     "text": [
      "Acurácia do Bagging-SVM no teste: 80.0\n",
      "Acurácia do Bagging-SVM na validação: 77.14\n"
     ]
    }
   ],
   "source": [
    "clasSVMPadrao = svm.SVC()\n",
    "clasBaggingPadrao = ensemble.BaggingClassifier(estimator=clasSVMPadrao, n_estimators=5)\n",
    "clasBaggingPadrao.fit(clas_Xtrain, clas_ytrain)\n",
    "\n",
    "print('Acurácia do Bagging-SVM no teste:', round(clasBaggingPadrao.score(clas_Xtest, clas_ytest)*100,2))\n",
    "print('Acurácia do Bagging-SVM na validação:', round(clasBaggingPadrao.score(clas_Xval, clas_yval)*100,2))"
   ]
  },
  {
   "cell_type": "code",
   "execution_count": 27,
   "id": "36763c51-eb45-41f5-8fa3-933e8e860fea",
   "metadata": {},
   "outputs": [
    {
     "name": "stdout",
     "output_type": "stream",
     "text": [
      "R² do Bagging-SVM no teste: 54.29\n",
      "MSQ do Bagging-SVM no teste: 8.251\n",
      "R² do Bagging-SVM na validação: 46.95\n",
      "MSQ do Bagging-SVM no teste: 7.5835\n"
     ]
    }
   ],
   "source": [
    "regrSVMPadrao = svm.SVR()\n",
    "regrBaggingPadrao = ensemble.BaggingRegressor(estimator=regrSVMPadrao)\n",
    "regrBaggingPadrao.fit(regr_Xtrain, regr_ytrain)\n",
    "\n",
    "print('R² do Bagging-SVM no teste:', round(metrics.r2_score(regr_ytest, regrBaggingPadrao.predict(regr_Xtest))*100,2))\n",
    "print('MSQ do Bagging-SVM no teste:', round(metrics.mean_squared_error(regr_ytest, regrBaggingPadrao.predict(regr_Xtest)),4))\n",
    "print('R² do Bagging-SVM na validação:', round(metrics.r2_score(regr_yval, regrBaggingPadrao.predict(regr_Xval))*100,2))\n",
    "print('MSQ do Bagging-SVM no teste:', round(metrics.mean_squared_error(regr_yval, regrBaggingPadrao.predict(regr_Xval)),4))"
   ]
  },
  {
   "cell_type": "code",
   "execution_count": 28,
   "id": "6617118d-f871-439c-9d29-f98af08078a5",
   "metadata": {},
   "outputs": [
    {
     "name": "stdout",
     "output_type": "stream",
     "text": [
      "R² do Bagging-SVM no teste: 59.24\n",
      "MSQ do Bagging-SVM no teste: 7.3574\n",
      "R² do Bagging-SVM na validação: 26.13\n",
      "MSQ do Bagging-SVM no teste: 10.5602\n"
     ]
    }
   ],
   "source": [
    "regrBaggingPadrao2 = ensemble.BaggingRegressor()\n",
    "regrBaggingPadrao2.fit(regr_Xtrain, regr_ytrain)\n",
    "\n",
    "print('R² do Bagging-SVM no teste:', round(metrics.r2_score(regr_ytest, regrBaggingPadrao2.predict(regr_Xtest))*100,2))\n",
    "print('MSQ do Bagging-SVM no teste:', round(metrics.mean_squared_error(regr_ytest, regrBaggingPadrao2.predict(regr_Xtest)),4))\n",
    "print('R² do Bagging-SVM na validação:', round(metrics.r2_score(regr_yval, regrBaggingPadrao2.predict(regr_Xval))*100,2))\n",
    "print('MSQ do Bagging-SVM no teste:', round(metrics.mean_squared_error(regr_yval, regrBaggingPadrao2.predict(regr_Xval)),4))"
   ]
  },
  {
   "cell_type": "markdown",
   "id": "3df2f2a2-e535-46d9-b760-503c3b7b4c12",
   "metadata": {},
   "source": [
    "Na classificação, não houve diferença palpável no modelo Bagging-SVM com base nos parâmetros. A acurácia da validação não teve nenhuma diferença, e a do teste dos parâmetros padrão foi apenas suavemente inferior.  \n",
    "Na regressão utilizando o SVM padrão, no entanto, os resultados da validação foram muito melhores, mas houve uma piora severa nos resultados do teste.  \n",
    "Na regressão utilizando DecisionTreeRegressor, a validação teve resultados fracamente melhores, mas uma explicabilidade ainda muito baixa se comparada à do modelo com parâmetros diferentes do padrão.  \n",
    "Na regressão, o modelo operou muito melhor com o estimator=SVM e n_estimators=5 no Bagging, e kernel='linear' no SVM.  "
   ]
  },
  {
   "cell_type": "markdown",
   "id": "44950077-9618-4d99-8db8-3712215f4126",
   "metadata": {
    "tags": []
   },
   "source": [
    "# (f) Ajustes em treino e teste"
   ]
  },
  {
   "cell_type": "markdown",
   "id": "691718db-ecd0-4664-a28d-c2738e9ce16c",
   "metadata": {},
   "source": [
    "Como estou trabalhando com dois problemas diferentes, vou ajustar os conjuntos de treino e teste de cada um. A validação continuará com o mesmo conjunto de elementos, mas a amostra será diferente."
   ]
  },
  {
   "cell_type": "markdown",
   "id": "694e6c4f-cbcd-4062-9c9e-4e55ae833f2f",
   "metadata": {},
   "source": [
    "## Efeitos na classificação"
   ]
  },
  {
   "cell_type": "markdown",
   "id": "cd8bc695-406b-4c0e-b9d4-a47431471a3f",
   "metadata": {},
   "source": [
    "Na validação, serão mantidos 35 elementos, parcela próxima de 15% da base. Para o teste, aumentarei de 15% para perto de 25% da base, ou 63 elementos para manter a estratificação das classes. O resto, cerca de 60%, ficará no treino."
   ]
  },
  {
   "cell_type": "code",
   "execution_count": 29,
   "id": "ea2275b1-b329-4896-9d8c-f305a2b50124",
   "metadata": {},
   "outputs": [
    {
     "name": "stdout",
     "output_type": "stream",
     "text": [
      "35 \n",
      "\n",
      "35\n"
     ]
    }
   ],
   "source": [
    "clas_valAlt = pd.concat([possumOversampled[possumOversampled.site==1].sample(5, random_state=101), \n",
    "                           possumOversampled[possumOversampled.site==2].sample(5, random_state=101), \n",
    "                           possumOversampled[possumOversampled.site==3].sample(5, random_state=101), \n",
    "                           possumOversampled[possumOversampled.site==4].sample(5, random_state=101), \n",
    "                           possumOversampled[possumOversampled.site==5].sample(5, random_state=101), \n",
    "                           possumOversampled[possumOversampled.site==6].sample(5, random_state=101), \n",
    "                           possumOversampled[possumOversampled.site==7].sample(5, random_state=101)])\n",
    "\n",
    "clas_valAlt = clas_valAlt.sort_index()\n",
    "\n",
    "clas_XvalAlt = clas_valAlt.drop('site', axis=1).copy()\n",
    "clas_yvalAlt = clas_valAlt.site.copy()\n",
    "\n",
    "print(clas_XvalAlt.shape[0], '\\n')\n",
    "print(clas_yvalAlt.shape[0])"
   ]
  },
  {
   "cell_type": "code",
   "execution_count": 30,
   "id": "2c27679a-cb63-4674-aa08-6e9ba841f78b",
   "metadata": {},
   "outputs": [
    {
     "name": "stdout",
     "output_type": "stream",
     "text": [
      "158 \n",
      "\n",
      "63 \n",
      "\n",
      "158 \n",
      "\n",
      "63\n"
     ]
    }
   ],
   "source": [
    "clas_XsplitAlt = possumOversampled.drop('site', axis=1).drop(clas_XvalAlt.index).copy()\n",
    "clas_ysplitAlt = possumOversampled.site.drop(clas_yvalAlt.index).copy()\n",
    "\n",
    "clas_XtrAlt, clas_XtsAlt, clas_ytrAlt, clas_ytsAlt = model_selection.train_test_split(clas_XsplitAlt, clas_ysplitAlt, \n",
    "                                                                                      stratify=clas_ysplitAlt, test_size=63)\n",
    "\n",
    "print(clas_XtrAlt.shape[0], '\\n')\n",
    "print(clas_XtsAlt.shape[0], '\\n')\n",
    "print(clas_ytrAlt.shape[0], '\\n')\n",
    "print(clas_ytsAlt.shape[0])"
   ]
  },
  {
   "cell_type": "code",
   "execution_count": 31,
   "id": "c876b0aa-fe8c-4931-9d42-d47de1be0eaa",
   "metadata": {},
   "outputs": [
    {
     "name": "stdout",
     "output_type": "stream",
     "text": [
      "Acurácia do KNN no teste: 79.37\n",
      "Acurácia do KNN na validação: 80.0\n"
     ]
    }
   ],
   "source": [
    "clasKNNAlt = neighbors.KNeighborsClassifier(n_neighbors=3, metric='manhattan')\n",
    "clasKNNAlt.fit(clas_XtrAlt, clas_ytrAlt)\n",
    "\n",
    "print('Acurácia do KNN no teste:', round(clasKNNAlt.score(clas_XtsAlt, clas_ytsAlt)*100,2))\n",
    "print('Acurácia do KNN na validação:', round(clasKNNAlt.score(clas_XvalAlt, clas_yvalAlt)*100,2))"
   ]
  },
  {
   "cell_type": "code",
   "execution_count": 32,
   "id": "5c1f57d5-340b-4b85-836c-184f64611ea4",
   "metadata": {},
   "outputs": [
    {
     "name": "stdout",
     "output_type": "stream",
     "text": [
      "Acurácia do Bagging-SVM no teste: 87.3\n",
      "Acurácia do Bagging-SVM na validação: 82.86\n"
     ]
    }
   ],
   "source": [
    "clasSVMAlt = svm.SVC(kernel='linear')\n",
    "clasBaggingAlt = ensemble.BaggingClassifier(estimator=clasSVMAlt, n_estimators=5)\n",
    "clasBaggingAlt.fit(clas_XtrAlt, clas_ytrAlt)\n",
    "\n",
    "print('Acurácia do Bagging-SVM no teste:', round(clasBaggingAlt.score(clas_XtsAlt, clas_ytsAlt)*100,2))\n",
    "print('Acurácia do Bagging-SVM na validação:', round(clasBaggingAlt.score(clas_XvalAlt, clas_yvalAlt)*100,2))"
   ]
  },
  {
   "cell_type": "markdown",
   "id": "919f760e-47e8-468a-bb88-cea80bc96de2",
   "metadata": {},
   "source": [
    "Usar um conjunto de treino com aproximadamente 60% da base, um de teste com quase 25% e um de validação com cerca de 15% trouxe resultados muito positivos para ambos os modelos de classificação.  \n",
    "Embora a acurácia do KNN no teste tenha reduzido significativamente, ela teve um aumento bastante notável na validação.  \n",
    "No caso do Bagging-SVM, os resultados foram ainda melhores. Houve aumento significativo na acurácia do teste, e um aumento ainda mais expressivo na da validação, quase equiparando as duas acurácias."
   ]
  },
  {
   "cell_type": "markdown",
   "id": "247fa65d-3126-4867-bf23-7071adcdce23",
   "metadata": {},
   "source": [
    "## Efeitos na regressão"
   ]
  },
  {
   "cell_type": "markdown",
   "id": "3aae661c-1e2c-40f7-bbd8-a7d2c8fb0541",
   "metadata": {},
   "source": [
    "Novamente, será mantida a proporção de aproximadamente 15% da base para validação, ou 15 elementos. Aumentando o conjunto de teste para 25%, será necessário alocar 26 elementos."
   ]
  },
  {
   "cell_type": "code",
   "execution_count": 33,
   "id": "b3bd7cdf-0fbb-4942-9912-4b71204ed01f",
   "metadata": {},
   "outputs": [
    {
     "name": "stdout",
     "output_type": "stream",
     "text": [
      "15 \n",
      "\n",
      "15\n"
     ]
    }
   ],
   "source": [
    "regr_valAlt = possumScaledRg.sample(15, random_state=101).copy()\n",
    "\n",
    "regr_XvalAlt = regr_valAlt.drop('totlngth', axis=1).copy()\n",
    "regr_yvalAlt = regr_valAlt.totlngth.copy()\n",
    "\n",
    "print(regr_XvalAlt.shape[0], '\\n')\n",
    "print(regr_yvalAlt.shape[0])"
   ]
  },
  {
   "cell_type": "code",
   "execution_count": 34,
   "id": "12127eaf-41db-412d-970a-6ccde5ea60c8",
   "metadata": {},
   "outputs": [
    {
     "name": "stdout",
     "output_type": "stream",
     "text": [
      "63 \n",
      "\n",
      "26 \n",
      "\n",
      "63 \n",
      "\n",
      "26\n"
     ]
    }
   ],
   "source": [
    "regr_XsplitAlt = possumScaledRg.drop('totlngth', axis=1).drop(regr_XvalAlt.index).copy()\n",
    "regr_ysplitAlt = possumScaledRg.totlngth.drop(regr_yvalAlt.index).copy()\n",
    "\n",
    "regr_XtrAlt, regr_XtsAlt, regr_ytrAlt, regr_ytsAlt = model_selection.train_test_split(regr_XsplitAlt, regr_ysplitAlt, \n",
    "                                                                                      test_size=26)\n",
    "\n",
    "print(regr_XtrAlt.shape[0], '\\n')\n",
    "print(regr_XtsAlt.shape[0], '\\n')\n",
    "print(regr_ytrAlt.shape[0], '\\n')\n",
    "print(regr_ytsAlt.shape[0])"
   ]
  },
  {
   "cell_type": "code",
   "execution_count": 35,
   "id": "57887e35-faea-4b01-9618-3e4dd9a9b834",
   "metadata": {},
   "outputs": [
    {
     "name": "stdout",
     "output_type": "stream",
     "text": [
      "R² do KNN no teste: 36.52\n",
      "MSQ do KNN no teste: 15.2371\n",
      "R² do KNN na validação: 35.85\n",
      "MSQ do KNN no teste: 16.3334\n"
     ]
    }
   ],
   "source": [
    "regrKNNAlt = neighbors.KNeighborsRegressor(n_neighbors=3, metric='manhattan')\n",
    "regrKNNAlt.fit(regr_XtrAlt, regr_ytrAlt)\n",
    "\n",
    "print('R² do KNN no teste:', round(metrics.r2_score(regr_ytsAlt, regrKNNAlt.predict(regr_XtsAlt))*100,2))\n",
    "print('MSQ do KNN no teste:', round(metrics.mean_squared_error(regr_ytsAlt, regrKNNAlt.predict(regr_XtsAlt)),4))\n",
    "print('R² do KNN na validação:', round(metrics.r2_score(regr_yvalAlt, regrKNNAlt.predict(regr_XvalAlt))*100,2))\n",
    "print('MSQ do KNN no teste:', round(metrics.mean_squared_error(regr_yvalAlt, regrKNNAlt.predict(regr_XvalAlt)),4))"
   ]
  },
  {
   "cell_type": "code",
   "execution_count": 36,
   "id": "3e97c74b-0ca2-4dc6-a18e-1d7e1ee277c5",
   "metadata": {},
   "outputs": [
    {
     "name": "stdout",
     "output_type": "stream",
     "text": [
      "R² do Bagging-SVM no teste: 70.89\n",
      "MSQ do Bagging-SVM no teste: 6.987\n",
      "R² do Bagging-SVM na validação: 78.41\n",
      "MSQ do Bagging-SVM no validação: 5.4975\n"
     ]
    }
   ],
   "source": [
    "regrSVMAlt = svm.SVR(kernel='linear')\n",
    "regrBaggingAlt = ensemble.BaggingRegressor(estimator=regrSVM, n_estimators=5)\n",
    "regrBaggingAlt.fit(regr_XtrAlt, regr_ytrAlt)\n",
    "\n",
    "print('R² do Bagging-SVM no teste:', round(metrics.r2_score(regr_ytsAlt, regrBaggingAlt.predict(regr_XtsAlt))*100,2))\n",
    "print('MSQ do Bagging-SVM no teste:', round(metrics.mean_squared_error(regr_ytsAlt, regrBaggingAlt.predict(regr_XtsAlt)),4))\n",
    "print('R² do Bagging-SVM na validação:', round(metrics.r2_score(regr_yvalAlt, regrBaggingAlt.predict(regr_XvalAlt))*100,2))\n",
    "print('MSQ do Bagging-SVM no validação:', round(metrics.mean_squared_error(regr_yvalAlt, regrBaggingAlt.predict(regr_XvalAlt)),4))"
   ]
  },
  {
   "cell_type": "markdown",
   "id": "dfdf4b14-3f2a-47ff-888b-7eee6f03af86",
   "metadata": {},
   "source": [
    "Usar um conjunto de treino com aproximadamente 60% da base, um de teste com quase 25% e um de validação com cerca de 15% trouxe resultados muito positivos para ambos os modelos de regressão.  \n",
    "A explicabilidade do KNN teve um aumento significativo tanto no teste quanto na validação, ainda que tenha continuado não muito eficiente.  \n",
    "No caso do Bagging-SVM, os resultados foram ainda melhores. Houve um aumento significativo na explicabilidade do conjunto de teste, mas um aumento largamente notável na de validação."
   ]
  }
 ],
 "metadata": {
  "kernelspec": {
   "display_name": "Python 3 (ipykernel)",
   "language": "python",
   "name": "python3"
  },
  "language_info": {
   "codemirror_mode": {
    "name": "ipython",
    "version": 3
   },
   "file_extension": ".py",
   "mimetype": "text/x-python",
   "name": "python",
   "nbconvert_exporter": "python",
   "pygments_lexer": "ipython3",
   "version": "3.9.16"
  }
 },
 "nbformat": 4,
 "nbformat_minor": 5
}
